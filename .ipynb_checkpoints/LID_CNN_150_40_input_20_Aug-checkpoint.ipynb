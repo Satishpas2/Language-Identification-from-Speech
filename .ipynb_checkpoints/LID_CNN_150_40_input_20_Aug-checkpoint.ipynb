{
 "cells": [
  {
   "cell_type": "code",
   "execution_count": 2,
   "metadata": {},
   "outputs": [
    {
     "name": "stderr",
     "output_type": "stream",
     "text": [
      "Using TensorFlow backend.\n"
     ]
    }
   ],
   "source": [
    "%matplotlib inline               \n",
    "import pandas as pd              \n",
    "from sklearn.model_selection import train_test_split\n",
    "from sklearn import preprocessing\n",
    "import numpy as np\n",
    "np.random.seed(1337)  # for reproducibility\n",
    "import matplotlib.pyplot as plt\n",
    "\n",
    "import scipy\n",
    "import scipy.io.wavfile\n",
    "import IPython\n",
    "from sklearn.cluster import KMeans\n",
    "import os \n",
    "import glob\n",
    "#from python_speech_features import delta\n",
    "from python_speech_features import logfbank\n",
    "import scipy.io.wavfile as wav\n",
    "from sklearn import metrics\n",
    "from sklearn.preprocessing import StandardScaler\n",
    "\n",
    "\n",
    "import random\n",
    "#from keras.datasets import mnist\n",
    "#from keras.callbacks import EarlyStopping\n",
    "from keras.callbacks import ModelCheckpoint\n",
    "from keras.models import Sequential\n",
    "from keras.layers import Dense, Dropout, Activation, Flatten,LSTM\n",
    "from keras.layers import Convolution2D, MaxPooling2D\n",
    "from keras.utils import np_utils\n",
    "from keras import backend as K\n",
    "from keras import optimizers\n",
    "from keras import  regularizers\n",
    "from keras.layers.normalization import BatchNormalization\n",
    "from keras.layers import Input, Conv2D\n"
   ]
  },
  {
   "cell_type": "code",
   "execution_count": 3,
   "metadata": {},
   "outputs": [],
   "source": [
    "#batch_size = 256\n",
    "nb_classes = 8\n",
    "#nb_epoch = 1\n",
    "\n",
    "# input image dimensions\n",
    "img_rows, img_cols = 40, 150\n",
    "# number of convolutional filters to use\n",
    "nb_filters = 8\n",
    "# size of pooling area for max pooling\n",
    "pool_size = (3, 3)\n",
    "# convolution kernel size\n",
    "kernel_size = (3, 3)"
   ]
  },
  {
   "cell_type": "code",
   "execution_count": 4,
   "metadata": {},
   "outputs": [],
   "source": [
    "train_afds = pd.read_csv('/mnt/E42A-AFE5/acoustic_data_indic/train_LSTM_150_40_afds.csv')"
   ]
  },
  {
   "cell_type": "code",
   "execution_count": 5,
   "metadata": {},
   "outputs": [],
   "source": [
    "test_afds = pd.read_csv('/mnt/E42A-AFE5/test_data/test_LSTM_150_40_afds.csv')"
   ]
  },
  {
   "cell_type": "code",
   "execution_count": 6,
   "metadata": {},
   "outputs": [
    {
     "data": {
      "text/plain": [
       "lan\n",
       "b'ben'     664\n",
       "b'eng'    6888\n",
       "b'hin'    3397\n",
       "b'kan'     176\n",
       "b'mal'      83\n",
       "b'man'     280\n",
       "b'mar'     102\n",
       "b'ori'     185\n",
       "b'tam'     776\n",
       "b'tel'     756\n",
       "b'urd'     112\n",
       "dtype: int64"
      ]
     },
     "execution_count": 6,
     "metadata": {},
     "output_type": "execute_result"
    }
   ],
   "source": [
    "test_afds.groupby('lan').size()"
   ]
  },
  {
   "cell_type": "code",
   "execution_count": 7,
   "metadata": {},
   "outputs": [],
   "source": [
    "#test_afds = pd.read_csv('/mnt/E42A-AFE5/acoustic_data_indic/train_LSTM_25_40.csv')"
   ]
  },
  {
   "cell_type": "code",
   "execution_count": 8,
   "metadata": {},
   "outputs": [],
   "source": [
    "test_afds['lan'] = test_afds['lan'].replace({\"b'hindi'\":\"b'hin'\"})"
   ]
  },
  {
   "cell_type": "code",
   "execution_count": 9,
   "metadata": {},
   "outputs": [
    {
     "data": {
      "text/plain": [
       "lan\n",
       "b'ben'      279\n",
       "b'eng'    12954\n",
       "b'guj'      197\n",
       "b'hin'     3150\n",
       "b'kan'     1798\n",
       "b'mal'     1537\n",
       "b'mar'     1388\n",
       "b'tam'      284\n",
       "b'tel'     3437\n",
       "dtype: int64"
      ]
     },
     "execution_count": 9,
     "metadata": {},
     "output_type": "execute_result"
    }
   ],
   "source": [
    "#Size of the total data for 8 Indian languages e.g. Bengali has 932780 examples.\n",
    "train_afds.groupby('lan').size()"
   ]
  },
  {
   "cell_type": "code",
   "execution_count": 10,
   "metadata": {},
   "outputs": [],
   "source": [
    "train_afds = train_afds[train_afds.lan != \"b'guj'\"]"
   ]
  },
  {
   "cell_type": "code",
   "execution_count": 11,
   "metadata": {},
   "outputs": [],
   "source": [
    "test_afds = test_afds[test_afds.lan != \"b'urd'\"]\n",
    "test_afds = test_afds[test_afds.lan != \"b'ori'\"]\n",
    "test_afds = test_afds[test_afds.lan != \"b'man'\"]\n",
    "test_afds = test_afds[test_afds.lan != \"b'guz'\"]"
   ]
  },
  {
   "cell_type": "code",
   "execution_count": 12,
   "metadata": {},
   "outputs": [
    {
     "data": {
      "text/html": [
       "<div>\n",
       "<style scoped>\n",
       "    .dataframe tbody tr th:only-of-type {\n",
       "        vertical-align: middle;\n",
       "    }\n",
       "\n",
       "    .dataframe tbody tr th {\n",
       "        vertical-align: top;\n",
       "    }\n",
       "\n",
       "    .dataframe thead th {\n",
       "        text-align: right;\n",
       "    }\n",
       "</style>\n",
       "<table border=\"1\" class=\"dataframe\">\n",
       "  <thead>\n",
       "    <tr style=\"text-align: right;\">\n",
       "      <th></th>\n",
       "      <th>0</th>\n",
       "      <th>1</th>\n",
       "      <th>2</th>\n",
       "      <th>3</th>\n",
       "      <th>4</th>\n",
       "      <th>5</th>\n",
       "      <th>6</th>\n",
       "      <th>7</th>\n",
       "      <th>8</th>\n",
       "      <th>9</th>\n",
       "      <th>...</th>\n",
       "      <th>5991</th>\n",
       "      <th>5992</th>\n",
       "      <th>5993</th>\n",
       "      <th>5994</th>\n",
       "      <th>5995</th>\n",
       "      <th>5996</th>\n",
       "      <th>5997</th>\n",
       "      <th>5998</th>\n",
       "      <th>5999</th>\n",
       "      <th>lan</th>\n",
       "    </tr>\n",
       "  </thead>\n",
       "  <tbody>\n",
       "    <tr>\n",
       "      <th>0</th>\n",
       "      <td>6.081747</td>\n",
       "      <td>5.647539</td>\n",
       "      <td>5.989301</td>\n",
       "      <td>5.792731</td>\n",
       "      <td>6.299132</td>\n",
       "      <td>6.965552</td>\n",
       "      <td>7.438815</td>\n",
       "      <td>7.621581</td>\n",
       "      <td>6.987224</td>\n",
       "      <td>7.023895</td>\n",
       "      <td>...</td>\n",
       "      <td>10.177686</td>\n",
       "      <td>9.701149</td>\n",
       "      <td>9.741124</td>\n",
       "      <td>9.925967</td>\n",
       "      <td>10.120768</td>\n",
       "      <td>10.325370</td>\n",
       "      <td>10.370296</td>\n",
       "      <td>9.675091</td>\n",
       "      <td>8.603929</td>\n",
       "      <td>b'hin'</td>\n",
       "    </tr>\n",
       "    <tr>\n",
       "      <th>1</th>\n",
       "      <td>3.683930</td>\n",
       "      <td>7.490530</td>\n",
       "      <td>10.859599</td>\n",
       "      <td>10.329108</td>\n",
       "      <td>10.270068</td>\n",
       "      <td>10.517760</td>\n",
       "      <td>8.690377</td>\n",
       "      <td>8.769230</td>\n",
       "      <td>7.842726</td>\n",
       "      <td>8.290480</td>\n",
       "      <td>...</td>\n",
       "      <td>10.178728</td>\n",
       "      <td>9.680222</td>\n",
       "      <td>9.659084</td>\n",
       "      <td>10.271333</td>\n",
       "      <td>10.315852</td>\n",
       "      <td>10.007659</td>\n",
       "      <td>9.625746</td>\n",
       "      <td>8.983969</td>\n",
       "      <td>8.524498</td>\n",
       "      <td>b'hin'</td>\n",
       "    </tr>\n",
       "    <tr>\n",
       "      <th>2</th>\n",
       "      <td>5.937850</td>\n",
       "      <td>7.130089</td>\n",
       "      <td>6.449243</td>\n",
       "      <td>6.923109</td>\n",
       "      <td>7.071393</td>\n",
       "      <td>8.172868</td>\n",
       "      <td>7.501072</td>\n",
       "      <td>7.996680</td>\n",
       "      <td>9.000989</td>\n",
       "      <td>8.718126</td>\n",
       "      <td>...</td>\n",
       "      <td>16.950355</td>\n",
       "      <td>15.322862</td>\n",
       "      <td>15.939582</td>\n",
       "      <td>16.023800</td>\n",
       "      <td>16.759785</td>\n",
       "      <td>18.628219</td>\n",
       "      <td>18.746532</td>\n",
       "      <td>16.828633</td>\n",
       "      <td>14.633693</td>\n",
       "      <td>b'hin'</td>\n",
       "    </tr>\n",
       "    <tr>\n",
       "      <th>3</th>\n",
       "      <td>12.310539</td>\n",
       "      <td>11.145738</td>\n",
       "      <td>14.400612</td>\n",
       "      <td>12.126864</td>\n",
       "      <td>14.715648</td>\n",
       "      <td>14.669934</td>\n",
       "      <td>15.543739</td>\n",
       "      <td>15.548113</td>\n",
       "      <td>17.870400</td>\n",
       "      <td>17.453308</td>\n",
       "      <td>...</td>\n",
       "      <td>10.018422</td>\n",
       "      <td>10.042325</td>\n",
       "      <td>9.958369</td>\n",
       "      <td>9.682505</td>\n",
       "      <td>10.282967</td>\n",
       "      <td>9.799570</td>\n",
       "      <td>9.747064</td>\n",
       "      <td>8.978714</td>\n",
       "      <td>7.820707</td>\n",
       "      <td>b'hin'</td>\n",
       "    </tr>\n",
       "    <tr>\n",
       "      <th>4</th>\n",
       "      <td>5.591835</td>\n",
       "      <td>7.060571</td>\n",
       "      <td>6.585800</td>\n",
       "      <td>6.514170</td>\n",
       "      <td>5.082371</td>\n",
       "      <td>6.401529</td>\n",
       "      <td>7.154940</td>\n",
       "      <td>6.314321</td>\n",
       "      <td>7.414189</td>\n",
       "      <td>7.317251</td>\n",
       "      <td>...</td>\n",
       "      <td>15.417990</td>\n",
       "      <td>14.143425</td>\n",
       "      <td>13.914169</td>\n",
       "      <td>14.052438</td>\n",
       "      <td>14.712698</td>\n",
       "      <td>14.508811</td>\n",
       "      <td>13.470205</td>\n",
       "      <td>12.653405</td>\n",
       "      <td>11.836051</td>\n",
       "      <td>b'hin'</td>\n",
       "    </tr>\n",
       "  </tbody>\n",
       "</table>\n",
       "<p>5 rows × 6001 columns</p>\n",
       "</div>"
      ],
      "text/plain": [
       "           0          1          2          3          4          5  \\\n",
       "0   6.081747   5.647539   5.989301   5.792731   6.299132   6.965552   \n",
       "1   3.683930   7.490530  10.859599  10.329108  10.270068  10.517760   \n",
       "2   5.937850   7.130089   6.449243   6.923109   7.071393   8.172868   \n",
       "3  12.310539  11.145738  14.400612  12.126864  14.715648  14.669934   \n",
       "4   5.591835   7.060571   6.585800   6.514170   5.082371   6.401529   \n",
       "\n",
       "           6          7          8          9  ...       5991       5992  \\\n",
       "0   7.438815   7.621581   6.987224   7.023895  ...  10.177686   9.701149   \n",
       "1   8.690377   8.769230   7.842726   8.290480  ...  10.178728   9.680222   \n",
       "2   7.501072   7.996680   9.000989   8.718126  ...  16.950355  15.322862   \n",
       "3  15.543739  15.548113  17.870400  17.453308  ...  10.018422  10.042325   \n",
       "4   7.154940   6.314321   7.414189   7.317251  ...  15.417990  14.143425   \n",
       "\n",
       "        5993       5994       5995       5996       5997       5998  \\\n",
       "0   9.741124   9.925967  10.120768  10.325370  10.370296   9.675091   \n",
       "1   9.659084  10.271333  10.315852  10.007659   9.625746   8.983969   \n",
       "2  15.939582  16.023800  16.759785  18.628219  18.746532  16.828633   \n",
       "3   9.958369   9.682505  10.282967   9.799570   9.747064   8.978714   \n",
       "4  13.914169  14.052438  14.712698  14.508811  13.470205  12.653405   \n",
       "\n",
       "        5999     lan  \n",
       "0   8.603929  b'hin'  \n",
       "1   8.524498  b'hin'  \n",
       "2  14.633693  b'hin'  \n",
       "3   7.820707  b'hin'  \n",
       "4  11.836051  b'hin'  \n",
       "\n",
       "[5 rows x 6001 columns]"
      ]
     },
     "execution_count": 12,
     "metadata": {},
     "output_type": "execute_result"
    }
   ],
   "source": [
    "test_afds.head()"
   ]
  },
  {
   "cell_type": "code",
   "execution_count": 13,
   "metadata": {},
   "outputs": [
    {
     "data": {
      "text/plain": [
       "lan\n",
       "b'ben'     664\n",
       "b'eng'    6888\n",
       "b'hin'    3397\n",
       "b'kan'     176\n",
       "b'mal'      83\n",
       "b'mar'     102\n",
       "b'tam'     776\n",
       "b'tel'     756\n",
       "dtype: int64"
      ]
     },
     "execution_count": 13,
     "metadata": {},
     "output_type": "execute_result"
    }
   ],
   "source": [
    "#Size of the total data for 8 Indian languages e.g. Bengali has 932780 examples.\n",
    "test_afds.groupby('lan').size()"
   ]
  },
  {
   "cell_type": "code",
   "execution_count": null,
   "metadata": {},
   "outputs": [],
   "source": []
  },
  {
   "cell_type": "code",
   "execution_count": 14,
   "metadata": {},
   "outputs": [],
   "source": [
    "#val_afds = pd.read_csv('/home/q/Desktop/rVAD_val129_mnist_2c.csv')\n",
    "#val_afds"
   ]
  },
  {
   "cell_type": "code",
   "execution_count": 15,
   "metadata": {},
   "outputs": [],
   "source": [
    "X_train = train_afds.drop(\"lan\",axis=1)\n",
    "y_train = train_afds[\"lan\"]"
   ]
  },
  {
   "cell_type": "code",
   "execution_count": 16,
   "metadata": {},
   "outputs": [],
   "source": [
    "X_test = test_afds.drop(\"lan\",axis=1)\n",
    "y_test = test_afds[\"lan\"]"
   ]
  },
  {
   "cell_type": "code",
   "execution_count": 17,
   "metadata": {},
   "outputs": [
    {
     "data": {
      "text/plain": [
       "LabelEncoder()"
      ]
     },
     "execution_count": 17,
     "metadata": {},
     "output_type": "execute_result"
    }
   ],
   "source": [
    "le = preprocessing.LabelEncoder()\n",
    "le.fit(y_train)"
   ]
  },
  {
   "cell_type": "code",
   "execution_count": 18,
   "metadata": {},
   "outputs": [],
   "source": [
    "y_train=le.transform(y_train)"
   ]
  },
  {
   "cell_type": "code",
   "execution_count": 19,
   "metadata": {},
   "outputs": [],
   "source": [
    "y_test=le.transform(y_test)"
   ]
  },
  {
   "cell_type": "code",
   "execution_count": null,
   "metadata": {},
   "outputs": [],
   "source": []
  },
  {
   "cell_type": "code",
   "execution_count": 20,
   "metadata": {},
   "outputs": [
    {
     "data": {
      "text/plain": [
       "array([1, 1, 1, ..., 1, 1, 1])"
      ]
     },
     "execution_count": 20,
     "metadata": {},
     "output_type": "execute_result"
    }
   ],
   "source": [
    "y_train"
   ]
  },
  {
   "cell_type": "code",
   "execution_count": 21,
   "metadata": {},
   "outputs": [
    {
     "data": {
      "text/plain": [
       "array([2, 2, 2, ..., 2, 2, 2])"
      ]
     },
     "execution_count": 21,
     "metadata": {},
     "output_type": "execute_result"
    }
   ],
   "source": [
    "y_test"
   ]
  },
  {
   "cell_type": "markdown",
   "metadata": {},
   "source": [
    "le = preprocessing.LabelEncoder()\n",
    "le.fit(y_val)"
   ]
  },
  {
   "cell_type": "code",
   "execution_count": 22,
   "metadata": {},
   "outputs": [
    {
     "data": {
      "text/plain": [
       "array([\"b'ben'\", \"b'eng'\", \"b'hin'\", \"b'kan'\", \"b'mal'\", \"b'mar'\",\n",
       "       \"b'tam'\", \"b'tel'\"], dtype=object)"
      ]
     },
     "execution_count": 22,
     "metadata": {},
     "output_type": "execute_result"
    }
   ],
   "source": [
    "le.classes_"
   ]
  },
  {
   "cell_type": "markdown",
   "metadata": {
    "collapsed": true
   },
   "source": [
    "y_val=le.transform(y_val)"
   ]
  },
  {
   "cell_type": "markdown",
   "metadata": {},
   "source": [
    "y_val"
   ]
  },
  {
   "cell_type": "code",
   "execution_count": 23,
   "metadata": {},
   "outputs": [],
   "source": [
    "X_train=X_train.values\n",
    "X_test=X_test.values"
   ]
  },
  {
   "cell_type": "code",
   "execution_count": 24,
   "metadata": {},
   "outputs": [
    {
     "data": {
      "text/plain": [
       "(24827, 6000)"
      ]
     },
     "execution_count": 24,
     "metadata": {},
     "output_type": "execute_result"
    }
   ],
   "source": [
    "X_train.shape"
   ]
  },
  {
   "cell_type": "code",
   "execution_count": 25,
   "metadata": {},
   "outputs": [],
   "source": [
    "#Dividing the data into training and validation set\n",
    "val_size = .3\n",
    "X_train, X_val, y_train, y_val = train_test_split(X_train, y_train, \n",
    "                                                    test_size=val_size, \n",
    "                                                    random_state=42)"
   ]
  },
  {
   "cell_type": "markdown",
   "metadata": {},
   "source": [
    "#Dividing the data into validation and test set\n",
    "test_size = .5\n",
    "X_val, X_test, y_val, y_test = train_test_split(X_val, y_val, \n",
    "                                                    test_size=test_size, \n",
    "                                                    random_state=42)"
   ]
  },
  {
   "cell_type": "code",
   "execution_count": 26,
   "metadata": {},
   "outputs": [
    {
     "data": {
      "text/plain": [
       "array([\"b'ben'\", \"b'eng'\", \"b'hin'\", \"b'kan'\", \"b'mal'\", \"b'mar'\",\n",
       "       \"b'tam'\", \"b'tel'\"], dtype=object)"
      ]
     },
     "execution_count": 26,
     "metadata": {},
     "output_type": "execute_result"
    }
   ],
   "source": [
    "le.classes_"
   ]
  },
  {
   "cell_type": "code",
   "execution_count": 27,
   "metadata": {},
   "outputs": [
    {
     "data": {
      "text/plain": [
       "array([3, 0, 1, ..., 2, 7, 1])"
      ]
     },
     "execution_count": 27,
     "metadata": {},
     "output_type": "execute_result"
    }
   ],
   "source": [
    "y_val"
   ]
  },
  {
   "cell_type": "markdown",
   "metadata": {},
   "source": [
    "X_train=X_train.values\n",
    "X_val=X_val.values\n",
    "X_test=X_test.values"
   ]
  },
  {
   "cell_type": "code",
   "execution_count": 28,
   "metadata": {},
   "outputs": [
    {
     "data": {
      "text/plain": [
       "(17378, 6000)"
      ]
     },
     "execution_count": 28,
     "metadata": {},
     "output_type": "execute_result"
    }
   ],
   "source": [
    "X_train.shape"
   ]
  },
  {
   "cell_type": "code",
   "execution_count": 29,
   "metadata": {},
   "outputs": [
    {
     "data": {
      "text/plain": [
       "(7449, 6000)"
      ]
     },
     "execution_count": 29,
     "metadata": {},
     "output_type": "execute_result"
    }
   ],
   "source": [
    "X_val.shape"
   ]
  },
  {
   "cell_type": "code",
   "execution_count": 30,
   "metadata": {},
   "outputs": [
    {
     "data": {
      "text/plain": [
       "(12842, 6000)"
      ]
     },
     "execution_count": 30,
     "metadata": {},
     "output_type": "execute_result"
    }
   ],
   "source": [
    "X_test.shape"
   ]
  },
  {
   "cell_type": "code",
   "execution_count": 31,
   "metadata": {},
   "outputs": [],
   "source": [
    "#Feature Normalization\n",
    "scaler = StandardScaler()\n",
    "X_train = scaler.fit_transform(X_train)\n",
    "\n",
    "X_val = scaler.transform(X_val)\n",
    "X_test = scaler.transform(X_test)"
   ]
  },
  {
   "cell_type": "code",
   "execution_count": null,
   "metadata": {},
   "outputs": [],
   "source": []
  },
  {
   "cell_type": "code",
   "execution_count": null,
   "metadata": {},
   "outputs": [],
   "source": []
  },
  {
   "cell_type": "markdown",
   "metadata": {},
   "source": [
    "X_val.shape"
   ]
  },
  {
   "cell_type": "markdown",
   "metadata": {},
   "source": [
    "#Feature Normalization\n",
    "scaler = StandardScaler()\n",
    "X_train = scaler.fit_transform(X_train)\n",
    "\n",
    "X_val = scaler.transform(X_val)"
   ]
  },
  {
   "cell_type": "code",
   "execution_count": 32,
   "metadata": {},
   "outputs": [],
   "source": [
    "\n",
    "X_train = X_train.reshape(X_train.shape[0], img_rows, img_cols, 1)\n",
    "#X_test = X_test.reshape(X_test.shape[0], img_rows, img_cols, 1)\n",
    "X_val = X_val.reshape(X_val.shape[0], img_rows, img_cols, 1)\n",
    "X_test = X_test.reshape(X_test.shape[0], img_rows, img_cols, 1)\n",
    "\n",
    "input_shape = (img_rows, img_cols, 1)"
   ]
  },
  {
   "cell_type": "code",
   "execution_count": 33,
   "metadata": {},
   "outputs": [
    {
     "data": {
      "text/plain": [
       "(40, 150, 1)"
      ]
     },
     "execution_count": 33,
     "metadata": {},
     "output_type": "execute_result"
    }
   ],
   "source": [
    "input_shape"
   ]
  },
  {
   "cell_type": "code",
   "execution_count": 34,
   "metadata": {},
   "outputs": [
    {
     "data": {
      "text/plain": [
       "(17378, 40, 150, 1)"
      ]
     },
     "execution_count": 34,
     "metadata": {},
     "output_type": "execute_result"
    }
   ],
   "source": [
    "X_train.shape"
   ]
  },
  {
   "cell_type": "code",
   "execution_count": 35,
   "metadata": {},
   "outputs": [],
   "source": [
    "# convert class vectors to binary class matrices\n",
    "y_train = np_utils.to_categorical(y_train, nb_classes)\n",
    "y_test = np_utils.to_categorical(y_test, nb_classes)\n",
    "y_val = np_utils.to_categorical(y_val, nb_classes)"
   ]
  },
  {
   "cell_type": "code",
   "execution_count": 36,
   "metadata": {},
   "outputs": [
    {
     "data": {
      "text/plain": [
       "array([[0., 0., 0., ..., 0., 0., 0.],\n",
       "       [1., 0., 0., ..., 0., 0., 0.],\n",
       "       [0., 1., 0., ..., 0., 0., 0.],\n",
       "       ...,\n",
       "       [0., 0., 1., ..., 0., 0., 0.],\n",
       "       [0., 0., 0., ..., 0., 0., 1.],\n",
       "       [0., 1., 0., ..., 0., 0., 0.]], dtype=float32)"
      ]
     },
     "execution_count": 36,
     "metadata": {},
     "output_type": "execute_result"
    }
   ],
   "source": [
    "y_val"
   ]
  },
  {
   "cell_type": "code",
   "execution_count": 37,
   "metadata": {},
   "outputs": [
    {
     "data": {
      "text/plain": [
       "array([[0., 0., 1., ..., 0., 0., 0.],\n",
       "       [0., 0., 1., ..., 0., 0., 0.],\n",
       "       [0., 0., 1., ..., 0., 0., 0.],\n",
       "       ...,\n",
       "       [0., 0., 1., ..., 0., 0., 0.],\n",
       "       [0., 0., 1., ..., 0., 0., 0.],\n",
       "       [0., 0., 1., ..., 0., 0., 0.]], dtype=float32)"
      ]
     },
     "execution_count": 37,
     "metadata": {},
     "output_type": "execute_result"
    }
   ],
   "source": [
    "y_test"
   ]
  },
  {
   "cell_type": "code",
   "execution_count": 38,
   "metadata": {},
   "outputs": [
    {
     "data": {
      "text/plain": [
       "(17378, 40, 150, 1)"
      ]
     },
     "execution_count": 38,
     "metadata": {},
     "output_type": "execute_result"
    }
   ],
   "source": [
    "X_train.shape"
   ]
  },
  {
   "cell_type": "code",
   "execution_count": 39,
   "metadata": {},
   "outputs": [
    {
     "data": {
      "text/plain": [
       "(7449, 40, 150, 1)"
      ]
     },
     "execution_count": 39,
     "metadata": {},
     "output_type": "execute_result"
    }
   ],
   "source": [
    "X_val.shape"
   ]
  },
  {
   "cell_type": "code",
   "execution_count": 40,
   "metadata": {},
   "outputs": [
    {
     "data": {
      "text/plain": [
       "(12842, 40, 150, 1)"
      ]
     },
     "execution_count": 40,
     "metadata": {},
     "output_type": "execute_result"
    }
   ],
   "source": [
    "X_test.shape"
   ]
  },
  {
   "cell_type": "code",
   "execution_count": 41,
   "metadata": {},
   "outputs": [
    {
     "name": "stdout",
     "output_type": "stream",
     "text": [
      "X_train shape: (17378, 40, 150, 1)\n",
      "17378 train samples\n",
      "12842 test samples\n",
      "7449 val samples\n"
     ]
    }
   ],
   "source": [
    "X_train = X_train.astype('float32')\n",
    "X_test = X_test.astype('float32')\n",
    "X_val = X_val.astype('float32')\n",
    "\n",
    "#X_train /= 255\n",
    "#X_test /= 255\n",
    "#X_val /= 255\n",
    "\n",
    "print('X_train shape:', X_train.shape)\n",
    "print(X_train.shape[0], 'train samples')\n",
    "print(X_test.shape[0], 'test samples')\n",
    "print(X_val.shape[0], 'val samples')\n"
   ]
  },
  {
   "cell_type": "markdown",
   "metadata": {},
   "source": [
    "#Try running the model on a smaller dataset\n",
    "X_train = X_train[0:2000]\n",
    "X_test = X_test[0:2000]\n",
    "X_val = X_val[0:2000]\n",
    "\n",
    "y_train = y_train[0:2000]\n",
    "y_test = y_test[0:2000]\n",
    "y_val = y_val[0:2000]"
   ]
  },
  {
   "cell_type": "code",
   "execution_count": 42,
   "metadata": {},
   "outputs": [],
   "source": [
    "num_classes = 8"
   ]
  },
  {
   "cell_type": "code",
   "execution_count": 48,
   "metadata": {},
   "outputs": [],
   "source": [
    "from tensorflow.compat.v1 import ConfigProto\n",
    "from tensorflow.compat.v1 import InteractiveSession\n",
    "config = ConfigProto()\n",
    "config.gpu_options.allow_growth = True\n",
    "session = InteractiveSession(config=config)"
   ]
  },
  {
   "cell_type": "markdown",
   "metadata": {},
   "source": [
    "#Enable gpu memory gowth\n",
    "#tf.config.gpu.set_per_process_memory_growth(True)\n",
    "model = Sequential()\n",
    "model.add(Conv2D(nb_filters, kernel_size[0], kernel_size[1],\n",
    "                        border_mode='valid',\n",
    "                        input_shape=input_shape))\n",
    "model.add(Conv2D(64, (5, 5), activation='relu'))\n",
    "model.add(MaxPooling2D(pool_size=(2, 2)))\n",
    "model.add(Flatten())\n",
    "model.add(Dense(256, activation='relu'))\n",
    "model.add(Dense(num_classes, activation='softmax'))"
   ]
  },
  {
   "cell_type": "code",
   "execution_count": 54,
   "metadata": {},
   "outputs": [
    {
     "name": "stderr",
     "output_type": "stream",
     "text": [
      "/home/reverie-pc/anaconda3/envs/keras/lib/python3.7/site-packages/ipykernel_launcher.py:4: UserWarning: Update your `Conv2D` call to the Keras 2 API: `Conv2D(8, (3, 3), input_shape=(40, 150, ..., padding=\"valid\", kernel_regularizer=<keras.reg...)`\n",
      "  after removing the cwd from sys.path.\n",
      "/home/reverie-pc/anaconda3/envs/keras/lib/python3.7/site-packages/ipykernel_launcher.py:13: UserWarning: Update your `Dense` call to the Keras 2 API: `Dense(512, kernel_regularizer=<keras.reg...)`\n",
      "  del sys.path[0]\n"
     ]
    }
   ],
   "source": [
    "model = Sequential()\n",
    "model.add(Convolution2D(nb_filters, kernel_size[0], kernel_size[1],\n",
    "                        border_mode='valid',\n",
    "                        input_shape=input_shape,W_regularizer=regularizers.l2(.1)))\n",
    "model.add(BatchNormalization(axis=-1))\n",
    "model.add(Activation('relu'))\n",
    "#model.add(Convolution2D(nb_filters, kernel_size[0], kernel_size[1]))\n",
    "#model.add(Activation('relu'))\n",
    "model.add(MaxPooling2D(pool_size=pool_size))\n",
    "model.add(Dropout(0.1))\n",
    "model.add(Flatten())\n",
    "#model.add(Dropout(0.1))\n",
    "model.add(Dense(512,W_regularizer=regularizers.l2(.1)))\n",
    "model.add(BatchNormalization(axis=-1))\n",
    "model.add(Activation('relu'))\n",
    "model.add(Dropout(0.1))\n",
    "model.add(Dense(nb_classes))\n",
    "model.add(Activation('softmax'))"
   ]
  },
  {
   "cell_type": "code",
   "execution_count": 55,
   "metadata": {},
   "outputs": [],
   "source": [
    "model.compile(loss='categorical_crossentropy', optimizer='adam', metrics=['accuracy'])"
   ]
  },
  {
   "cell_type": "code",
   "execution_count": null,
   "metadata": {},
   "outputs": [],
   "source": []
  },
  {
   "cell_type": "code",
   "execution_count": 56,
   "metadata": {},
   "outputs": [
    {
     "name": "stdout",
     "output_type": "stream",
     "text": [
      "_________________________________________________________________\n",
      "Layer (type)                 Output Shape              Param #   \n",
      "=================================================================\n",
      "conv2d_3 (Conv2D)            (None, 38, 148, 8)        80        \n",
      "_________________________________________________________________\n",
      "batch_normalization_5 (Batch (None, 38, 148, 8)        32        \n",
      "_________________________________________________________________\n",
      "activation_7 (Activation)    (None, 38, 148, 8)        0         \n",
      "_________________________________________________________________\n",
      "max_pooling2d_3 (MaxPooling2 (None, 12, 49, 8)         0         \n",
      "_________________________________________________________________\n",
      "dropout_5 (Dropout)          (None, 12, 49, 8)         0         \n",
      "_________________________________________________________________\n",
      "flatten_3 (Flatten)          (None, 4704)              0         \n",
      "_________________________________________________________________\n",
      "dense_5 (Dense)              (None, 512)               2408960   \n",
      "_________________________________________________________________\n",
      "batch_normalization_6 (Batch (None, 512)               2048      \n",
      "_________________________________________________________________\n",
      "activation_8 (Activation)    (None, 512)               0         \n",
      "_________________________________________________________________\n",
      "dropout_6 (Dropout)          (None, 512)               0         \n",
      "_________________________________________________________________\n",
      "dense_6 (Dense)              (None, 8)                 4104      \n",
      "_________________________________________________________________\n",
      "activation_9 (Activation)    (None, 8)                 0         \n",
      "=================================================================\n",
      "Total params: 2,415,224\n",
      "Trainable params: 2,414,184\n",
      "Non-trainable params: 1,040\n",
      "_________________________________________________________________\n"
     ]
    }
   ],
   "source": [
    "model.summary()"
   ]
  },
  {
   "cell_type": "code",
   "execution_count": 57,
   "metadata": {},
   "outputs": [],
   "source": [
    "#Here we save our best model during training and with best accuracy on validation set\n",
    "best_weights_filepath = '/mnt/acoustic_data_indic/best_weights_CNN_150_40_20_aug.hdf5'\n",
    "saveBestModel = ModelCheckpoint(best_weights_filepath, monitor='val_acc', verbose=1, save_best_only=True, mode='auto')\n"
   ]
  },
  {
   "cell_type": "code",
   "execution_count": null,
   "metadata": {},
   "outputs": [],
   "source": [
    "#Training the model\n",
    "epochs=3\n",
    "batch_size=32\n",
    "history = model.fit(X_train, y_train, batch_size=batch_size, epochs=epochs,verbose=2,\n",
    "                    validation_data=(X_val, y_val), callbacks=[saveBestModel],shuffle=True)"
   ]
  },
  {
   "cell_type": "code",
   "execution_count": null,
   "metadata": {},
   "outputs": [],
   "source": [
    "#reload best weights\n",
    "model.load_weights(best_weights_filepath)"
   ]
  },
  {
   "cell_type": "code",
   "execution_count": null,
   "metadata": {},
   "outputs": [],
   "source": [
    "score, acc = model.evaluate(X_test, y_test, batch_size=batch_size,verbose = 2)\n",
    "print('Test accuracy:', acc)"
   ]
  },
  {
   "cell_type": "code",
   "execution_count": null,
   "metadata": {},
   "outputs": [],
   "source": []
  },
  {
   "cell_type": "code",
   "execution_count": null,
   "metadata": {},
   "outputs": [],
   "source": []
  },
  {
   "cell_type": "code",
   "execution_count": null,
   "metadata": {},
   "outputs": [],
   "source": []
  },
  {
   "cell_type": "code",
   "execution_count": null,
   "metadata": {},
   "outputs": [],
   "source": []
  },
  {
   "cell_type": "code",
   "execution_count": null,
   "metadata": {},
   "outputs": [],
   "source": []
  },
  {
   "cell_type": "code",
   "execution_count": null,
   "metadata": {},
   "outputs": [],
   "source": []
  }
 ],
 "metadata": {
  "kernelspec": {
   "display_name": "Python 3",
   "language": "python",
   "name": "python3"
  },
  "language_info": {
   "codemirror_mode": {
    "name": "ipython",
    "version": 3
   },
   "file_extension": ".py",
   "mimetype": "text/x-python",
   "name": "python",
   "nbconvert_exporter": "python",
   "pygments_lexer": "ipython3",
   "version": "3.7.5"
  }
 },
 "nbformat": 4,
 "nbformat_minor": 2
}
