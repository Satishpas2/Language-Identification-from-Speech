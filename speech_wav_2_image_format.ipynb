{
 "cells": [
  {
   "cell_type": "code",
   "execution_count": 1,
   "metadata": {
    "collapsed": true
   },
   "outputs": [],
   "source": [
    "%matplotlib inline\n",
    "import matplotlib.pyplot as plt\n",
    "import numpy as np\n",
    "import scipy\n",
    "import scipy.io.wavfile\n",
    "import IPython\n",
    "from sklearn.cluster import KMeans\n",
    "import numpy as np\n",
    "import os \n",
    "import glob\n",
    "import pandas as pd\n",
    "from python_speech_features import mfcc\n",
    "from python_speech_features import delta\n",
    "from python_speech_features import logfbank\n",
    "import scipy.io.wavfile as wav\n",
    "import random"
   ]
  },
  {
   "cell_type": "code",
   "execution_count": 373,
   "metadata": {},
   "outputs": [],
   "source": [
    "#infile = \"/home/q/Desktop/data_1_ben_m_0123.wav\"\n",
    "#df_afds = pd.read_csv(\"/home/q/Desktop/AFDS_details.csv\")\n",
    "indir=\"/home/satish/Desktop/ACC_2C/TRAIN_ACC_LID_2C/\"\n",
    "os.chdir(indir)\n",
    "fileList=glob.glob(\"*.wav\")\n",
    "m=len(fileList)\n",
    "dfList=[]\n",
    "digits=np.zeros((m,1))\n",
    "n=512\n",
    "\n",
    "#y = np.chararray((m,1), itemsize=3)\n",
    "\n",
    "y = np.chararray((m,1), itemsize=5)\n",
    "y_fname = np.chararray((m,1), itemsize=17)\n",
    "#data_no = np.chararray((m,1), itemsize=6)\n",
    "#v1=[]\n",
    "#j=0\n",
    "#df_age=np.zeros(shape=(m,1))\n",
    "v_BoW=np.zeros(shape=(m,n))"
   ]
  },
  {
   "cell_type": "code",
   "execution_count": 374,
   "metadata": {},
   "outputs": [],
   "source": [
    "#fileList"
   ]
  },
  {
   "cell_type": "code",
   "execution_count": 375,
   "metadata": {
    "collapsed": true
   },
   "outputs": [],
   "source": [
    "import fractions\n",
    "def lcm(a,b): return abs(a * b) / fractions.gcd(a,b) if a and b else 0"
   ]
  },
  {
   "cell_type": "code",
   "execution_count": 376,
   "metadata": {},
   "outputs": [],
   "source": [
    "#df_SF=pd.DataFrame()\n",
    "df_SF_F = pd.DataFrame()\n",
    "for filename in fileList:\n",
    "       \n",
    "    (rate,sig) = wav.read(filename)\n",
    "    \n",
    "    fbank_feat = logfbank(sig,rate,nfilt=40)\n",
    "    \n",
    "    context_w_size=100\n",
    "    l = len(fbank_feat) #Length of fbank features in one file\n",
    "    \n",
    "    #len_of_sent = 10 #Select the size of sentence\n",
    "                     #(10 means sent_length will be 10*25*0.025=6.25sec)\n",
    "    \n",
    "    \n",
    "    \n",
    "    \n",
    "    ignore = l%context_w_size #lcm(context_w_size,len_of_sent) #Ignoring the frames not multiples of sentence chosen\n",
    "    \n",
    "\n",
    "       \n",
    "    fbank_feat_f=fbank_feat[0:(l-ignore)]      #Getting the fbank features in exact multiples \n",
    "    l1 = len(fbank_feat_f) \n",
    "    no_W = l1/context_w_size\n",
    "            \n",
    "    fbank_feat_df = pd.DataFrame(fbank_feat_f) #Converting fbank to dataframe\n",
    "    \n",
    "    #Getting the label of the current file being processed\n",
    "    spkrid = np.chararray((1,1), itemsize=5)\n",
    "    spkrid[0]=filename[7:10]\n",
    "    spkrid_df=pd.DataFrame(spkrid)\n",
    "    spkrid_df.columns = ['lan']\n",
    "    \n",
    "    \n",
    "    \n",
    "    i=0\n",
    "    df_SF=pd.DataFrame()\n",
    "    for item in range(0,no_W):\n",
    "        x = fbank_feat_df.loc[i:i+(context_w_size-1)] \n",
    "             \n",
    "        \n",
    "        y = pd.DataFrame(x.values.reshape(1, -1)) \n",
    "        yy=pd.concat([y,spkrid_df],axis=1)\n",
    "        df_SF = df_SF.append(yy,ignore_index = True)#df_SF store all the images of the current file\n",
    "                                \n",
    "        i = i + context_w_size\n",
    "    df_SF_F=df_SF_F.append(df_SF,ignore_index = True)\n",
    "    #df_SF_F stores all the images of all the test file"
   ]
  },
  {
   "cell_type": "code",
   "execution_count": 377,
   "metadata": {},
   "outputs": [
    {
     "data": {
      "text/plain": [
       "(4250, 40)"
      ]
     },
     "execution_count": 377,
     "metadata": {},
     "output_type": "execute_result"
    }
   ],
   "source": [
    "fbank_feat.shape"
   ]
  },
  {
   "cell_type": "code",
   "execution_count": 378,
   "metadata": {},
   "outputs": [
    {
     "data": {
      "text/plain": [
       "'deta_1_tel_m_0026.wav'"
      ]
     },
     "execution_count": 378,
     "metadata": {},
     "output_type": "execute_result"
    }
   ],
   "source": [
    "filename"
   ]
  },
  {
   "cell_type": "code",
   "execution_count": 379,
   "metadata": {},
   "outputs": [],
   "source": [
    "#df_SF"
   ]
  },
  {
   "cell_type": "code",
   "execution_count": 380,
   "metadata": {},
   "outputs": [],
   "source": [
    "#df_SF_F"
   ]
  },
  {
   "cell_type": "code",
   "execution_count": 381,
   "metadata": {},
   "outputs": [],
   "source": [
    "#df_SF_F.drop(df_SF_F.index[3:5])\n"
   ]
  },
  {
   "cell_type": "code",
   "execution_count": 382,
   "metadata": {},
   "outputs": [],
   "source": [
    "df_SF_F.to_csv('/home/satish/Desktop/ACC_2C/LRCN_TRAIN_ACC_LID_100CW_2C_FINAL.csv',index=False)"
   ]
  },
  {
   "cell_type": "code",
   "execution_count": null,
   "metadata": {
    "collapsed": true
   },
   "outputs": [],
   "source": []
  },
  {
   "cell_type": "code",
   "execution_count": null,
   "metadata": {
    "collapsed": true
   },
   "outputs": [],
   "source": []
  },
  {
   "cell_type": "code",
   "execution_count": null,
   "metadata": {
    "collapsed": true
   },
   "outputs": [],
   "source": []
  },
  {
   "cell_type": "code",
   "execution_count": null,
   "metadata": {
    "collapsed": true
   },
   "outputs": [],
   "source": []
  }
 ],
 "metadata": {
  "kernelspec": {
   "display_name": "Python 3",
   "language": "python",
   "name": "python3"
  },
  "language_info": {
   "codemirror_mode": {
    "name": "ipython",
    "version": 3
   },
   "file_extension": ".py",
   "mimetype": "text/x-python",
   "name": "python",
   "nbconvert_exporter": "python",
   "pygments_lexer": "ipython3",
   "version": "3.7.3"
  }
 },
 "nbformat": 4,
 "nbformat_minor": 2
}
